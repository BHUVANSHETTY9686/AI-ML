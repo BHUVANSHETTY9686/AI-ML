{
 "cells": [
  {
   "cell_type": "code",
   "execution_count": 2,
   "id": "79d2b1d1",
   "metadata": {},
   "outputs": [
    {
     "name": "stdout",
     "output_type": "stream",
     "text": [
      "Input: \n",
      "[[0.66666667 1.        ]\n",
      " [0.33333333 0.55555556]\n",
      " [1.         0.66666667]]\n",
      "Actual Output: \n",
      "[[0.92]\n",
      " [0.86]\n",
      " [0.89]]\n",
      "Predicted Output: \n",
      " [[0.89506319]\n",
      " [0.88166845]\n",
      " [0.89297535]]\n"
     ]
    }
   ],
   "source": [
    "import numpy as np\n",
    "X=np.array(([2,9],[1,5],[3,6]), dtype=float)\n",
    "Y=np.array(([92],[86],[89]),dtype=float)\n",
    "\n",
    "\n",
    "X=X/np.amax(X,axis=0)\n",
    "\n",
    "Y=Y/100\n",
    "\n",
    "def sigmoid(X):\n",
    "    return 1/(1+np.exp(-X))\n",
    "\n",
    "def derivatives_sigmoid(X):\n",
    "    return X*(1-X)\n",
    "\n",
    "epoch=5000\n",
    "lr=0.1\n",
    "output=1\n",
    "inputlayer=2\n",
    "hiddenlayer=3\n",
    "\n",
    "\n",
    "\n",
    "wh=np.random.uniform(size=(inputlayer,hiddenlayer))\n",
    "bh=np.random.uniform(size=(1,hiddenlayer))\n",
    "wout=np.random.uniform(size=(hiddenlayer,output))\n",
    "bout=np.random.uniform(size=(1,output))\n",
    "\n",
    "\n",
    "for i in range(epoch):\n",
    "    hinpl=np.dot(X,wh)\n",
    "    hinp=hinpl+bh\n",
    "    hlayer_act=sigmoid(hinp) \n",
    "    \n",
    "    outinpl=np.dot(hlayer_act,wout)\n",
    "    outinp=outinpl+bout\n",
    "    output=sigmoid(outinp)\n",
    "    \n",
    "    E0=Y-output\n",
    "    outgrad=derivatives_sigmoid(output)\n",
    "    d_output= E0*outgrad\n",
    "    EH=d_output.dot(wout.T)\n",
    "    \n",
    "    hiddengrad=derivatives_sigmoid(hlayer_act)\n",
    "    d_hiddenlayer=EH*hiddengrad\n",
    "    \n",
    "    \n",
    "    wh+=X.T.dot(d_hiddenlayer)*lr\n",
    "    wout+=hlayer_act.T.dot(d_output)*lr\n",
    "    \n",
    "\n",
    "print(\"Input: \\n\" + str(X)) \n",
    "print(\"Actual Output: \\n\" + str(Y)) \n",
    "print(\"Predicted Output: \\n\" ,output)\n",
    "\n"
   ]
  },
  {
   "cell_type": "code",
   "execution_count": null,
   "id": "bd603c81",
   "metadata": {},
   "outputs": [],
   "source": []
  }
 ],
 "metadata": {
  "kernelspec": {
   "display_name": "Python 3 (ipykernel)",
   "language": "python",
   "name": "python3"
  },
  "language_info": {
   "codemirror_mode": {
    "name": "ipython",
    "version": 3
   },
   "file_extension": ".py",
   "mimetype": "text/x-python",
   "name": "python",
   "nbconvert_exporter": "python",
   "pygments_lexer": "ipython3",
   "version": "3.9.12"
  }
 },
 "nbformat": 4,
 "nbformat_minor": 5
}
