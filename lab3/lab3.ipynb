{
 "cells": [
  {
   "cell_type": "code",
   "execution_count": 53,
   "id": "7c92fbd1",
   "metadata": {},
   "outputs": [],
   "source": [
    "import numpy as np\n",
    "import pandas as pd\n",
    "data=pd.DataFrame(pd.read_csv('sports.csv'))\n",
    "data=np.array(data.iloc[:,:])"
   ]
  },
  {
   "cell_type": "code",
   "execution_count": 54,
   "id": "4c3d3737",
   "metadata": {},
   "outputs": [
    {
     "name": "stdout",
     "output_type": "stream",
     "text": [
      "[['sunny' 'warm' 'high' 'strong' 'warm' 'same']\n",
      " ['sunny' 'warm' 'high' 'strong' 'cool' 'change']\n",
      " ['sunny' 'warm' 'normal' 'strong' 'warm' 'same']\n",
      " ['cloudy' 'cold' 'high' 'strong' 'warm' 'change']]\n",
      "['yes' 'yes' 'yes' 'no']\n"
     ]
    }
   ],
   "source": [
    "concepts=np.array(data[:,0:-1])\n",
    "print(concepts)\n",
    "target=np.array(data[:,-1])\n",
    "print(target)"
   ]
  },
  {
   "cell_type": "code",
   "execution_count": 61,
   "id": "a5c35c18",
   "metadata": {},
   "outputs": [],
   "source": [
    "def learn(concepts, target):\n",
    "    specific = concepts[0].copy()\n",
    "    general = [[\"?\" for _ in range(len(specific))] for _ in range(len(specific))]\n",
    "    \n",
    "    print(\"initialization of specific_h and general_h\") \n",
    "    print(specific)\n",
    "    print(general,\"\\n\")\n",
    "    \n",
    "    for i, h in enumerate(concepts): \n",
    "        if target[i] == \"yes\":\n",
    "            for x in range(len(specific)):\n",
    "                if h[x]!= specific[x]:\n",
    "                    specific[x] ='?' \n",
    "                    general[x][x] ='?'\n",
    "        if target[i] == \"no\":\n",
    "            for x in range(len(specific)): \n",
    "                if h[x]!= specific[x]:\n",
    "                    general[x][x] = specific[x] \n",
    "                else:\n",
    "                    general[x][x] = '?'\n",
    "        print(\"\\nsteps of Candidate Elimination Algorithm\",i+1) \n",
    "        print(specific)\n",
    "        print(general)\n",
    "    indices = [i for i, val in enumerate(general) if val == ['?', '?', '?', '?', '?', '?']]\n",
    "    for i in indices:\n",
    "        general.remove(['?', '?', '?', '?', '?', '?']) \n",
    "    return specific, general"
   ]
  },
  {
   "cell_type": "code",
   "execution_count": 63,
   "id": "93daaaf2",
   "metadata": {},
   "outputs": [
    {
     "name": "stdout",
     "output_type": "stream",
     "text": [
      "initialization of specific_h and general_h\n",
      "['sunny' 'warm' 'high' 'strong' 'warm' 'same']\n",
      "[['?', '?', '?', '?', '?', '?'], ['?', '?', '?', '?', '?', '?'], ['?', '?', '?', '?', '?', '?'], ['?', '?', '?', '?', '?', '?'], ['?', '?', '?', '?', '?', '?'], ['?', '?', '?', '?', '?', '?']] \n",
      "\n",
      "\n",
      "steps of Candidate Elimination Algorithm 1\n",
      "['sunny' 'warm' 'high' 'strong' 'warm' 'same']\n",
      "[['?', '?', '?', '?', '?', '?'], ['?', '?', '?', '?', '?', '?'], ['?', '?', '?', '?', '?', '?'], ['?', '?', '?', '?', '?', '?'], ['?', '?', '?', '?', '?', '?'], ['?', '?', '?', '?', '?', '?']]\n",
      "\n",
      "steps of Candidate Elimination Algorithm 2\n",
      "['sunny' 'warm' 'high' 'strong' '?' '?']\n",
      "[['?', '?', '?', '?', '?', '?'], ['?', '?', '?', '?', '?', '?'], ['?', '?', '?', '?', '?', '?'], ['?', '?', '?', '?', '?', '?'], ['?', '?', '?', '?', '?', '?'], ['?', '?', '?', '?', '?', '?']]\n",
      "\n",
      "steps of Candidate Elimination Algorithm 3\n",
      "['sunny' 'warm' '?' 'strong' '?' '?']\n",
      "[['?', '?', '?', '?', '?', '?'], ['?', '?', '?', '?', '?', '?'], ['?', '?', '?', '?', '?', '?'], ['?', '?', '?', '?', '?', '?'], ['?', '?', '?', '?', '?', '?'], ['?', '?', '?', '?', '?', '?']]\n",
      "\n",
      "steps of Candidate Elimination Algorithm 4\n",
      "['sunny' 'warm' '?' 'strong' '?' '?']\n",
      "[['sunny', '?', '?', '?', '?', '?'], ['?', 'warm', '?', '?', '?', '?'], ['?', '?', '?', '?', '?', '?'], ['?', '?', '?', '?', '?', '?'], ['?', '?', '?', '?', '?', '?'], ['?', '?', '?', '?', '?', '?']]\n",
      "\n",
      "Final Specific_h:\n",
      "['sunny' 'warm' '?' 'strong' '?' '?']\n",
      "Final General_h:\n",
      "[['sunny', '?', '?', '?', '?', '?'], ['?', 'warm', '?', '?', '?', '?']]\n"
     ]
    }
   ],
   "source": [
    "s_final, g_final = learn(concepts, target) \n",
    "print(\"\\nFinal Specific_h:\", s_final, sep=\"\\n\") \n",
    "print(\"Final General_h:\", g_final, sep=\"\\n\")"
   ]
  }
 ],
 "metadata": {
  "kernelspec": {
   "display_name": "Python 3 (ipykernel)",
   "language": "python",
   "name": "python3"
  },
  "language_info": {
   "codemirror_mode": {
    "name": "ipython",
    "version": 3
   },
   "file_extension": ".py",
   "mimetype": "text/x-python",
   "name": "python",
   "nbconvert_exporter": "python",
   "pygments_lexer": "ipython3",
   "version": "3.9.12"
  }
 },
 "nbformat": 4,
 "nbformat_minor": 5
}
